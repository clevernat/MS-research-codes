{
 "cells": [
  {
   "cell_type": "code",
   "execution_count": 1,
   "id": "8ecf92f6-c7c4-4755-b0ca-2f2e041e5054",
   "metadata": {},
   "outputs": [],
   "source": [
    "import imageio.v2\n",
    "from IPython import display\n",
    "import glob"
   ]
  },
  {
   "cell_type": "code",
   "execution_count": 2,
   "id": "fc773d47-a40b-4216-859e-40a48fa447d8",
   "metadata": {},
   "outputs": [
    {
     "name": "stdout",
     "output_type": "stream",
     "text": [
      "CPU times: user 7.53 s, sys: 151 ms, total: 7.68 s\n",
      "Wall time: 20.3 s\n"
     ]
    }
   ],
   "source": [
    "%%time\n",
    "# Build GIF\n",
    "# imgs = sorted(glob.glob(\"./figures/March-13/*.png\"))\n",
    "imgs = sorted(glob.glob(\"./t_series_ANX_CAO1_arscl/*png\"))\n",
    "with imageio.get_writer('./t_series_ANX_CAO1_arscl/t_series_ANX_CAO1_arscl-all.gif', mode='I', duration=0.7) as writer:\n",
    "    for filename in imgs:\n",
    "        image = imageio.v2.imread(filename)\n",
    "        writer.append_data(image)"
   ]
  },
  {
   "cell_type": "code",
   "execution_count": null,
   "id": "0439af53-bc0a-4304-9cb6-66f3095b6d15",
   "metadata": {},
   "outputs": [],
   "source": [
    "%%time\n",
    "#Display image\n",
    "display.Image('cell1.gif', width=700)"
   ]
  }
 ],
 "metadata": {
  "kernelspec": {
   "display_name": "Python [conda env:vertical-transect]",
   "language": "python",
   "name": "conda-env-vertical-transect-py"
  },
  "language_info": {
   "codemirror_mode": {
    "name": "ipython",
    "version": 3
   },
   "file_extension": ".py",
   "mimetype": "text/x-python",
   "name": "python",
   "nbconvert_exporter": "python",
   "pygments_lexer": "ipython3",
   "version": "3.8.13"
  }
 },
 "nbformat": 4,
 "nbformat_minor": 5
}
