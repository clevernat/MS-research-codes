{
 "cells": [
  {
   "cell_type": "markdown",
   "id": "f68c4f94-1e1d-4889-9b00-d658a80d17ec",
   "metadata": {},
   "source": [
    "# March 13th from 4am to March 14th 5am"
   ]
  },
  {
   "cell_type": "code",
   "execution_count": 2,
   "id": "48dedf6d-befd-486b-af58-ebce813f69e7",
   "metadata": {},
   "outputs": [],
   "source": [
    "import xarray as xr\n",
    "import cartopy.crs as ccrs\n",
    "import numpy as np\n",
    "import cartopy.feature as cfeature\n",
    "import matplotlib.pyplot as plt\n",
    "from datetime import datetime\n",
    "from cartopy.util import add_cyclic_point\n",
    "from cartopy.mpl.gridliner import LONGITUDE_FORMATTER, LATITUDE_FORMATTER\n",
    "import gc\n",
    "import glob\n",
    "import imageio.v2\n",
    "import os\n",
    "from IPython import display\n",
    "import netCDF4"
   ]
  },
  {
   "cell_type": "code",
   "execution_count": 3,
   "id": "2c994112-b285-465c-b75d-7e3c9158c36d",
   "metadata": {},
   "outputs": [
    {
     "name": "stdout",
     "output_type": "stream",
     "text": [
      "CPU times: user 4min 16s, sys: 1.1 s, total: 4min 17s\n",
      "Wall time: 4min 19s\n"
     ]
    }
   ],
   "source": [
    "%%time\n",
    "# Build GIF\n",
    "imgs = sorted(glob.glob(\"./img-mar13-4am-to-mar14-5am/*.png\"))\n",
    "with imageio.get_writer('mar13-4am-to-mar14-5am-animation.gif', mode='I', duration=0.3) as writer:\n",
    "    for filename in imgs:\n",
    "        image = imageio.v2.imread(filename)\n",
    "        writer.append_data(image)"
   ]
  },
  {
   "cell_type": "code",
   "execution_count": null,
   "id": "e9ba0172-a5d8-4c87-8061-0d529a9f4311",
   "metadata": {},
   "outputs": [
    {
     "name": "stdout",
     "output_type": "stream",
     "text": [
      "CPU times: user 4.93 ms, sys: 80 ms, total: 85 ms\n",
      "Wall time: 121 ms\n"
     ]
    }
   ],
   "source": [
    "%%time\n",
    "#Display image\n",
    "display.Image('mar13-4am-to-mar14-5am-animation.gif', width=700)"
   ]
  },
  {
   "cell_type": "code",
   "execution_count": null,
   "id": "13b64421-a79a-4220-93ee-004b3dbff5c7",
   "metadata": {},
   "outputs": [],
   "source": []
  }
 ],
 "metadata": {
  "kernelspec": {
   "display_name": "Python [conda env:tobac-env]",
   "language": "python",
   "name": "conda-env-tobac-env-py"
  },
  "language_info": {
   "codemirror_mode": {
    "name": "ipython",
    "version": 3
   },
   "file_extension": ".py",
   "mimetype": "text/x-python",
   "name": "python",
   "nbconvert_exporter": "python",
   "pygments_lexer": "ipython3",
   "version": "3.11.0"
  }
 },
 "nbformat": 4,
 "nbformat_minor": 5
}
